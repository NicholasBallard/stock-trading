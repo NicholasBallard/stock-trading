{
 "cells": [
  {
   "cell_type": "markdown",
   "metadata": {},
   "source": [
    "## The Stock Basket\n",
    "\n",
    "This program operations off a self-limiting list of stocks and trades only those. Perhaps in the future we'll make it hunt for a basket of securities and screen on certain criteria. For now though it is sticking to a small and sane choice of blue chips.\n",
    "\n",
    "It's a good idea to pick stocks which appear to have negative co-movements. Translation: pick bullish and bearish stocks. The market buys into Tesla on optimistic days when capital is moving into the index. Kroger, on the other hand, appears more a fallout shelter stock. People buy in when the market is down. Or maybe because the retail grocery is beaten down at the time of this writing, fewer are selling out of their positions.\n",
    "\n",
    "These are my casual observations based on nothing but gut feelings. So we will of course take them as gospel.\n",
    "\n",
    "You are thinking, then what makes this algorithm any different from all the other by-the-seat-of-their-pants day traders?\n",
    "\n",
    "Nothing. The unfair advantage is computer speed, consistency, and the elimination of human judgement calls. Algorithmic trading for one. You don't have to be a Wall Street bank to benefit.\n",
    "\n",
    "H0 = There is no difference between the returns of a buy and hold strategy and this algorithmic day trader.\n",
    "H1 = There is a significant difference buy and hold and the returns of this algorithmic day trader."
   ]
  },
  {
   "cell_type": "code",
   "execution_count": 2,
   "metadata": {},
   "outputs": [
    {
     "name": "stdout",
     "output_type": "stream",
     "text": [
      "{'NVDA', 'RDS.A', 'XOM', 'KR', 'GE', 'ZG', 'AMD', 'MSFT', 'SYF', 'BABA', 'T', 'NSC', 'WMT', 'F', 'AAPL', 'TSLA', 'GM', 'GLW'}\n"
     ]
    }
   ],
   "source": [
    "stock_basket = \\\n",
    "'''\n",
    "TSLA KR T F GM WMT SYF NVDA BABA GE AAPL RDS.A ZG MSFT NSC XOM GLW AMD\n",
    "'''\n",
    "\n",
    "# Making stock_basket a set ensures no duplicates.\n",
    "stock_basket = set(stock_basket.split())\n",
    "print(stock_basket)"
   ]
  },
  {
   "cell_type": "markdown",
   "metadata": {},
   "source": [
    "## 1. Pull in Market Data on Our Stock Basket\n",
    "\n",
    "As promised, we're wrapping our code in functions for less re-coding. By now we should be importing our credentials on a global scope. Save the key and secret strings as variables in a .py file named, say, *ally_account_info.py* and import with `from ally_account_info import *`. My own *ally_account_info.py* file contains the consumer and product keys and secrets, and the base url for API calls."
   ]
  },
  {
   "cell_type": "markdown",
   "metadata": {},
   "source": []
  }
 ],
 "metadata": {
  "kernelspec": {
   "display_name": "Python 3",
   "language": "python",
   "name": "python3"
  }
 },
 "nbformat": 4,
 "nbformat_minor": 2
}
