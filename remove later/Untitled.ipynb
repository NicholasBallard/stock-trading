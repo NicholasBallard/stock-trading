{
 "cells": [
  {
   "cell_type": "code",
   "execution_count": 19,
   "metadata": {},
   "outputs": [
    {
     "name": "stdout",
     "output_type": "stream",
     "text": [
      "'{\"response\":{\"@id\":\"c3368197-ecd4-470b-93e0-bc01fa4b146d\",\"elapsedtime\":\"0\",\"quotes\":{\"quote\":[{\"ask\":\"324.9400\",\"ask_time\":\"18:54\",\"asksz\":\"5\",\"beta\":\"0.6403\",\"bid\":\"324.8800\",\"bid_time\":\"18:45\",\"bidsz\":\"1\",\"bidtick\":\"u\",\"name\":\"TESLAINC\",\"symbol\":\"TSLA\",\"vl\":\"4213551\"},{\"ask\":\"28.25\",\"ask_time\":\"18:03\",\"asksz\":\"1\",\"beta\":\"0.2128\",\"bid\":\"28.10\",\"bid_time\":\"17:49\",\"bidsz\":\"2\",\"bidtick\":\"u\",\"name\":\"KROGERCO(THE)\",\"symbol\":\"KR\",\"vl\":\"10931749\"},{\"ask\":\"38.900\",\"ask_time\":\"18:18\",\"asksz\":\"34\",\"beta\":\"0.5085\",\"bid\":\"38.820\",\"bid_time\":\"18:18\",\"bidsz\":\"48\",\"bidtick\":\"d\",\"name\":\"AT&TINC\",\"symbol\":\"T\",\"vl\":\"19959903\"},{\"ask\":\"12.58\",\"ask_time\":\"18:34\",\"asksz\":\"558\",\"beta\":\"1.3172\",\"bid\":\"12.57\",\"bid_time\":\"18:27\",\"bidsz\":\"10\",\"bidtick\":\"d\",\"name\":\"FORDMOTORCO.(DE)\",\"symbol\":\"F\",\"vl\":\"17874021\"},{\"ask\":\"42.15\",\"ask_time\":\"18:43\",\"asksz\":\"2\",\"beta\":\"1.6682\",\"bid\":\"42.10\",\"bid_time\":\"18:57\",\"bidsz\":\"5\",\"bidtick\":\"d\",\"name\":\"GENERALMOTORSCO\",\"symbol\":\"GM\",\"vl\":\"4906383\"},{\"ask\":\"98.85\",\"ask_time\":\"18:06\",\"asksz\":\"4\",\"beta\":\"0.1163\",\"bid\":\"98.15\",\"bid_time\":\"18:30\",\"bidsz\":\"1\",\"bidtick\":\"d\",\"name\":\"WAL-MARTSTORES,INC.\",\"symbol\":\"WMT\",\"vl\":\"5478026\"},{\"ask\":\"39.55\",\"ask_time\":\"16:51\",\"asksz\":\"6\",\"beta\":\"0.9048\",\"bid\":\"38.27\",\"bid_time\":\"16:51\",\"bidsz\":\"1\",\"bidtick\":\"d\",\"name\":\"SYNCHRONYFINANCIAL\",\"symbol\":\"SYF\",\"vl\":\"4260019\"},{\"ask\":\"195.18\",\"ask_time\":\"18:44\",\"asksz\":\"8\",\"beta\":\"1.3785\",\"bid\":\"195.07\",\"bid_time\":\"18:50\",\"bidsz\":\"40\",\"bidtick\":\"d\",\"name\":\"NVIDIACORP\",\"symbol\":\"NVDA\",\"vl\":\"11653441\"},{\"ask\":\"176.0500\",\"ask_time\":\"18:48\",\"asksz\":\"10\",\"beta\":\"2.4344\",\"bid\":\"175.9500\",\"bid_time\":\"18:56\",\"bidsz\":\"5\",\"bidtick\":\"u\",\"name\":\"ALIBABAGROUPHOLDINGLTD\",\"symbol\":\"BABA\",\"vl\":\"12522107\"},{\"ask\":\"17.5000\",\"ask_time\":\"18:54\",\"asksz\":\"20\",\"beta\":\"0.8919\",\"bid\":\"17.4900\",\"bid_time\":\"18:44\",\"bidsz\":\"69\",\"bidtick\":\"d\",\"name\":\"GENERALELECTRICCO\",\"symbol\":\"GE\",\"vl\":\"46357790\"},{\"ask\":\"175.030\",\"ask_time\":\"18:56\",\"asksz\":\"4\",\"beta\":\"1.3075\",\"bid\":\"175.000\",\"bid_time\":\"18:51\",\"bidsz\":\"1\",\"bidtick\":\"u\",\"name\":\"APPLEINC\",\"symbol\":\"AAPL\",\"vl\":\"16344115\"},{\"ask\":\"0\",\"ask_time\":\"na\",\"asksz\":\"na\",\"beta\":\"na\",\"bid\":\"0\",\"bid_time\":\"na\",\"bidsz\":\"na\",\"bidtick\":\"na\",\"name\":\"NA\",\"symbol\":\"RDS.A\",\"vl\":\"na\"},{\"ask\":\"44.08\",\"ask_time\":\"18:06\",\"asksz\":\"1\",\"beta\":\"2.8848\",\"bid\":\"39.93\",\"bid_time\":\"17:14\",\"bidsz\":\"1\",\"bidtick\":\"u\",\"name\":\"ZILLOWGROUPINC\",\"symbol\":\"ZG\",\"vl\":\"134208\"},{\"ask\":\"85.59\",\"ask_time\":\"18:20\",\"asksz\":\"3\",\"beta\":\"1.467\",\"bid\":\"85.56\",\"bid_time\":\"18:52\",\"bidsz\":\"2\",\"bidtick\":\"u\",\"name\":\"MICROSOFTCORPORATION\",\"symbol\":\"MSFT\",\"vl\":\"14145245\"},{\"ask\":\"0.00\",\"ask_time\":\"17:54\",\"asksz\":\"0\",\"beta\":\"1.5372\",\"bid\":\"127.89\",\"bid_time\":\"17:54\",\"bidsz\":\"4\",\"bidtick\":\"d\",\"name\":\"NORFOLKSOUTHERNCORP.\",\"symbol\":\"NSC\",\"vl\":\"578826\"},{\"ask\":\"84.04\",\"ask_time\":\"17:37\",\"asksz\":\"1\",\"beta\":\"0.6888\",\"bid\":\"83.94\",\"bid_time\":\"17:05\",\"bidsz\":\"1\",\"bidtick\":\"u\",\"name\":\"EXXONMOBILCORP\",\"symbol\":\"XOM\",\"vl\":\"10161407\"},{\"ask\":\"32.50\",\"ask_time\":\"16:23\",\"asksz\":\"3\",\"beta\":\"1.112\",\"bid\":\"32.00\",\"bid_time\":\"16:23\",\"bidsz\":\"1\",\"bidtick\":\"d\",\"name\":\"CORNINGINC\",\"symbol\":\"GLW\",\"vl\":\"2392696\"},{\"ask\":\"10.5300\",\"ask_time\":\"18:55\",\"asksz\":\"186\",\"beta\":\"2.9938\",\"bid\":\"10.5100\",\"bid_time\":\"18:55\",\"bidsz\":\"25\",\"bidtick\":\"d\",\"name\":\"ADVANCEDMICRODEVICES,INC.\",\"symbol\":\"AMD\",\"vl\":\"50705950\"},{\"ask\":\"112.8000\",\"ask_time\":\"18:54\",\"asksz\":\"2\",\"beta\":\"1.6704\",\"bid\":\"112.5900\",\"bid_time\":\"18:54\",\"bidsz\":\"1\",\"bidtick\":\"d\",\"name\":\"VISAINC\",\"symbol\":\"V\",\"vl\":\"6189722\"}]},\"error\":\"Success\"}}'\n"
     ]
    }
   ],
   "source": [
    "from pprint import pprint\n",
    "import re\n",
    "file = open(\"output_pulling_in_market_data.txt\", \"r\")\n",
    "data = file.read()\n",
    "\n",
    "data = re.sub('[\\s+]', '', data)\n",
    "\n",
    "pprint(data)"
   ]
  },
  {
   "cell_type": "code",
   "execution_count": 20,
   "metadata": {},
   "outputs": [],
   "source": [
    "class Stock(object):\n",
    "    \n",
    "    def __init__(self, price, bid, ask, bidsz, asksz):\n",
    "        self.price = price\n",
    "        self.bid = bid\n",
    "        self.ask = ask\n",
    "        self.bidsz = bidsz\n",
    "        self.asksz = asksz\n",
    "    \n",
    "    def timeseries(self, ):\n",
    "        pass"
   ]
  },
  {
   "cell_type": "code",
   "execution_count": null,
   "metadata": {},
   "outputs": [],
   "source": [
    "import pandas as pd\n",
    "import numpy as np\n",
    "\n"
   ]
  }
 ],
 "metadata": {
  "kernelspec": {
   "display_name": "Python 3",
   "language": "python",
   "name": "python3"
  },
  "language_info": {
   "codemirror_mode": {
    "name": "ipython",
    "version": 3
   },
   "file_extension": ".py",
   "mimetype": "text/x-python",
   "name": "python",
   "nbconvert_exporter": "python",
   "pygments_lexer": "ipython3",
   "version": "3.6.3"
  }
 },
 "nbformat": 4,
 "nbformat_minor": 2
}
